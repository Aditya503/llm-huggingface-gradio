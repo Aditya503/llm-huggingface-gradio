{
 "cells": [
  {
   "cell_type": "markdown",
   "id": "70c10546",
   "metadata": {},
   "source": [
    "# HuggingFace API with Gradio Front-end\n"
   ]
  },
  {
   "cell_type": "code",
   "execution_count": 23,
   "id": "300a7c7a",
   "metadata": {},
   "outputs": [
    {
     "name": "stdout",
     "output_type": "stream",
     "text": [
      "Requirement already satisfied: transformers in c:\\users\\adity\\anaconda3\\lib\\site-packages (4.31.0)\n",
      "Requirement already satisfied: accelerate in c:\\users\\adity\\anaconda3\\lib\\site-packages (0.21.0)\n",
      "Requirement already satisfied: safetensors in c:\\users\\adity\\anaconda3\\lib\\site-packages (0.3.1)\n",
      "Requirement already satisfied: invisible_watermark in c:\\users\\adity\\anaconda3\\lib\\site-packages (0.2.0)\n",
      "Requirement already satisfied: packaging>=20.0 in c:\\users\\adity\\anaconda3\\lib\\site-packages (from transformers) (21.3)\n",
      "Requirement already satisfied: huggingface-hub<1.0,>=0.14.1 in c:\\users\\adity\\anaconda3\\lib\\site-packages (from transformers) (0.16.4)\n",
      "Requirement already satisfied: tokenizers!=0.11.3,<0.14,>=0.11.1 in c:\\users\\adity\\anaconda3\\lib\\site-packages (from transformers) (0.13.3)\n",
      "Requirement already satisfied: filelock in c:\\users\\adity\\anaconda3\\lib\\site-packages (from transformers) (3.6.0)\n",
      "Requirement already satisfied: requests in c:\\users\\adity\\anaconda3\\lib\\site-packages (from transformers) (2.28.1)\n",
      "Requirement already satisfied: tqdm>=4.27 in c:\\users\\adity\\anaconda3\\lib\\site-packages (from transformers) (4.64.1)\n",
      "Requirement already satisfied: pyyaml>=5.1 in c:\\users\\adity\\anaconda3\\lib\\site-packages (from transformers) (6.0)\n",
      "Requirement already satisfied: regex!=2019.12.17 in c:\\users\\adity\\anaconda3\\lib\\site-packages (from transformers) (2022.7.9)\n",
      "Requirement already satisfied: numpy>=1.17 in c:\\users\\adity\\anaconda3\\lib\\site-packages (from transformers) (1.23.5)\n",
      "Requirement already satisfied: psutil in c:\\users\\adity\\anaconda3\\lib\\site-packages (from accelerate) (5.9.0)\n",
      "Requirement already satisfied: torch>=1.10.0 in c:\\users\\adity\\anaconda3\\lib\\site-packages (from accelerate) (2.0.1)\n",
      "Requirement already satisfied: PyWavelets>=1.1.1 in c:\\users\\adity\\anaconda3\\lib\\site-packages (from invisible_watermark) (1.3.0)\n",
      "Requirement already satisfied: Pillow>=6.0.0 in c:\\users\\adity\\anaconda3\\lib\\site-packages (from invisible_watermark) (9.2.0)\n",
      "Requirement already satisfied: opencv-python>=4.1.0.25 in c:\\users\\adity\\anaconda3\\lib\\site-packages (from invisible_watermark) (4.8.0.74)\n",
      "Requirement already satisfied: typing-extensions>=3.7.4.3 in c:\\users\\adity\\anaconda3\\lib\\site-packages (from huggingface-hub<1.0,>=0.14.1->transformers) (4.7.1)\n",
      "Requirement already satisfied: fsspec in c:\\users\\adity\\anaconda3\\lib\\site-packages (from huggingface-hub<1.0,>=0.14.1->transformers) (2022.7.1)\n",
      "Requirement already satisfied: pyparsing!=3.0.5,>=2.0.2 in c:\\users\\adity\\anaconda3\\lib\\site-packages (from packaging>=20.0->transformers) (3.0.9)\n",
      "Requirement already satisfied: jinja2 in c:\\users\\adity\\anaconda3\\lib\\site-packages (from torch>=1.10.0->accelerate) (2.11.3)\n",
      "Requirement already satisfied: sympy in c:\\users\\adity\\anaconda3\\lib\\site-packages (from torch>=1.10.0->accelerate) (1.10.1)\n",
      "Requirement already satisfied: networkx in c:\\users\\adity\\anaconda3\\lib\\site-packages (from torch>=1.10.0->accelerate) (2.8.4)\n",
      "Requirement already satisfied: colorama in c:\\users\\adity\\anaconda3\\lib\\site-packages (from tqdm>=4.27->transformers) (0.4.5)\n",
      "Requirement already satisfied: charset-normalizer<3,>=2 in c:\\users\\adity\\anaconda3\\lib\\site-packages (from requests->transformers) (2.0.4)\n",
      "Requirement already satisfied: idna<4,>=2.5 in c:\\users\\adity\\anaconda3\\lib\\site-packages (from requests->transformers) (3.3)\n",
      "Requirement already satisfied: urllib3<1.27,>=1.21.1 in c:\\users\\adity\\anaconda3\\lib\\site-packages (from requests->transformers) (1.26.11)\n",
      "Requirement already satisfied: certifi>=2017.4.17 in c:\\users\\adity\\anaconda3\\lib\\site-packages (from requests->transformers) (2022.9.14)\n",
      "Requirement already satisfied: MarkupSafe>=0.23 in c:\\users\\adity\\anaconda3\\lib\\site-packages (from jinja2->torch>=1.10.0->accelerate) (2.0.1)\n",
      "Requirement already satisfied: mpmath>=0.19 in c:\\users\\adity\\anaconda3\\lib\\site-packages (from sympy->torch>=1.10.0->accelerate) (1.2.1)\n"
     ]
    }
   ],
   "source": [
    "!pip install transformers accelerate safetensors invisible_watermark"
   ]
  },
  {
   "cell_type": "code",
   "execution_count": 35,
   "id": "0e3a8065",
   "metadata": {
    "scrolled": true
   },
   "outputs": [
    {
     "name": "stdout",
     "output_type": "stream",
     "text": [
      "Running on local URL:  http://127.0.0.1:7886\n",
      "\n",
      "To create a public link, set `share=True` in `launch()`.\n"
     ]
    },
    {
     "data": {
      "text/html": [
       "<div><iframe src=\"http://127.0.0.1:7886/\" width=\"100%\" height=\"500\" allow=\"autoplay; camera; microphone; clipboard-read; clipboard-write;\" frameborder=\"0\" allowfullscreen></iframe></div>"
      ],
      "text/plain": [
       "<IPython.core.display.HTML object>"
      ]
     },
     "metadata": {},
     "output_type": "display_data"
    },
    {
     "data": {
      "text/plain": []
     },
     "execution_count": 35,
     "metadata": {},
     "output_type": "execute_result"
    }
   ],
   "source": [
    "from transformers import pipeline\n",
    "import gradio as gr\n",
    "\n",
    "def img_desc(img):\n",
    "    # Initializing the image classification pipeline\n",
    "    classifier = pipeline(task=\"image-classification\", model=\"google/vit-base-patch16-224\")\n",
    "\n",
    "    # Performing the classification\n",
    "    results = classifier(img)\n",
    "\n",
    "    # If only one result, converting it to a list to handle both cases\n",
    "    if not isinstance(results, list):\n",
    "        results = [results]\n",
    "\n",
    "    # Get the top 5 prediction labels and probabilities\n",
    "    num_top_classes = 5\n",
    "    top_results = {result['label']: result['score'] for result in results[:num_top_classes]}\n",
    "\n",
    "    return top_results\n",
    "\n",
    "img = gr.components.Image(shape=(224, 224), type=\"pil\")\n",
    "label = gr.components.Label(num_top_classes=5)\n",
    "\n",
    "demo = gr.Interface(fn=img_desc, inputs=img, outputs=label,title=\"Image Classification with google/vit-base-patch16-224\",\n",
    "                    description=\"Classify any image using the Google's model\",\n",
    "                    allow_flagging=\"never\")\n",
    "demo.launch()\n"
   ]
  },
  {
   "cell_type": "code",
   "execution_count": 36,
   "id": "11221c89",
   "metadata": {},
   "outputs": [
    {
     "name": "stdout",
     "output_type": "stream",
     "text": [
      "Running on local URL:  http://127.0.0.1:7887\n",
      "\n",
      "To create a public link, set `share=True` in `launch()`.\n"
     ]
    },
    {
     "data": {
      "text/html": [
       "<div><iframe src=\"http://127.0.0.1:7887/\" width=\"100%\" height=\"500\" allow=\"autoplay; camera; microphone; clipboard-read; clipboard-write;\" frameborder=\"0\" allowfullscreen></iframe></div>"
      ],
      "text/plain": [
       "<IPython.core.display.HTML object>"
      ]
     },
     "metadata": {},
     "output_type": "display_data"
    },
    {
     "data": {
      "text/plain": []
     },
     "execution_count": 36,
     "metadata": {},
     "output_type": "execute_result"
    }
   ],
   "source": [
    "from transformers import pipeline\n",
    "import gradio as gr\n",
    "\n",
    "def img_desc(img):\n",
    "    # Initializing the image classification pipeline\n",
    "    classifier = pipeline(task=\"image-classification\", model=\"facebook/convnextv2-tiny-1k-224\")\n",
    "\n",
    "    # Performing the classification\n",
    "    results = classifier(img)\n",
    "\n",
    "    # If only one result, converting it to a list to handle both cases\n",
    "    if not isinstance(results, list):\n",
    "        results = [results]\n",
    "\n",
    "    # Displaying the top 5 prediction labels and probabilities\n",
    "    num_top_classes = 5\n",
    "    top_results = {result['label']: result['score'] for result in results[:num_top_classes]}\n",
    "\n",
    "    return top_results\n",
    "\n",
    "img = gr.components.Image(shape=(224, 224), type=\"pil\")\n",
    "label = gr.components.Label(num_top_classes=5)\n",
    "\n",
    "demo = gr.Interface(fn=img_desc, inputs=img, outputs=label,title=\"Image Classification with facebook/convnextv2-tiny-1k-224\",\n",
    "                    description=\"Classify any image using the Facebook's model\",\n",
    "                    allow_flagging=\"never\")\n",
    "demo.launch()\n"
   ]
  }
 ],
 "metadata": {
  "kernelspec": {
   "display_name": "Python 3 (ipykernel)",
   "language": "python",
   "name": "python3"
  },
  "language_info": {
   "codemirror_mode": {
    "name": "ipython",
    "version": 3
   },
   "file_extension": ".py",
   "mimetype": "text/x-python",
   "name": "python",
   "nbconvert_exporter": "python",
   "pygments_lexer": "ipython3",
   "version": "3.9.13"
  }
 },
 "nbformat": 4,
 "nbformat_minor": 5
}
